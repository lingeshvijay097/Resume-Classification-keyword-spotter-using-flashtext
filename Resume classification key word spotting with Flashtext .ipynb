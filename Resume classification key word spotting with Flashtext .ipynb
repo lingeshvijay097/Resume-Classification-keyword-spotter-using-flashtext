{
 "cells": [
  {
   "cell_type": "code",
   "execution_count": 29,
   "id": "d13206e1",
   "metadata": {},
   "outputs": [],
   "source": [
    "#Importing the libraries\n",
    "import pandas as pd\n",
    "import os\n",
    "from pdfminer.high_level import extract_text\n",
    "import re\n",
    "# specifying the folder path\n",
    "FolderPath = \"\\resumes\""
   ]
  },
  {
   "cell_type": "code",
   "execution_count": 1,
   "id": "9ae3022b",
   "metadata": {},
   "outputs": [
    {
     "name": "stdout",
     "output_type": "stream",
     "text": [
      "resume1.pdf\n"
     ]
    }
   ],
   "source": [
    "#Iterating for pdf files in the given folder\n",
    "files=[]\n",
    "from os import listdir\n",
    "from os.path import isfile, join\n",
    "for f in listdir(FolderPath):\n",
    "    if f.endswith('.pdf'):\n",
    "        files.append(FolderPath +'\\\\'+ f)\n",
    "    \n",
    "\n",
    "print(files[0])"
   ]
  },
  {
   "cell_type": "code",
   "execution_count": 31,
   "id": "c43ff08c",
   "metadata": {},
   "outputs": [],
   "source": [
    "#Creating empty data frame ID,FIlename,Document\n",
    "Resume_Df= pd.DataFrame(columns = ['DocumentID','FileName', 'Document'])\n",
    "#Iterating each document and framing as Data frame\n",
    "for index,eachfile in enumerate(files):\n",
    "    docuData = extract_text(eachfile)\n",
    "    Resume_Df= Resume_Df.append({'DocumentID':index,'FileName':eachfile,'Document':docuData},ignore_index = True)"
   ]
  },
  {
   "cell_type": "code",
   "execution_count": 34,
   "id": "34ef15f5",
   "metadata": {},
   "outputs": [],
   "source": [
    "def cleanResume(resumeText):\n",
    "        resumeText=re.sub('\\n', '',resumeText )\n",
    "        resumeText = re.sub('http\\S+\\s*', ' ', resumeText)  # remove URLs\n",
    "        return resumeText"
   ]
  },
  {
   "cell_type": "code",
   "execution_count": 35,
   "id": "a499d80a",
   "metadata": {},
   "outputs": [],
   "source": [
    "Resume_Df['Document']=Resume_Df['Document'].apply(lambda x:cleanResume(x))"
   ]
  },
  {
   "cell_type": "code",
   "execution_count": 76,
   "id": "d92e77d0",
   "metadata": {},
   "outputs": [],
   "source": [
    "keyword_Df=pd.read_csv('resumeKeys.csv')"
   ]
  },
  {
   "cell_type": "code",
   "execution_count": 78,
   "id": "f77361c2",
   "metadata": {},
   "outputs": [],
   "source": [
    "dicts=keyword_Df.to_dict('list')"
   ]
  },
  {
   "cell_type": "code",
   "execution_count": 79,
   "id": "3034e49c",
   "metadata": {},
   "outputs": [
    {
     "data": {
      "text/plain": [
       "['linear regression',\n",
       " 'logistic regression',\n",
       " 'K means',\n",
       " 'random forest',\n",
       " 'xgboost',\n",
       " 'svm',\n",
       " 'naive Bayes',\n",
       " 'pca',\n",
       " 'decision trees',\n",
       " 'svd',\n",
       " 'ensemble models']"
      ]
     },
     "execution_count": 79,
     "metadata": {},
     "output_type": "execute_result"
    }
   ],
   "source": [
    "dicts['Machine Learning']"
   ]
  },
  {
   "cell_type": "code",
   "execution_count": 83,
   "id": "0ceb4d1c",
   "metadata": {},
   "outputs": [],
   "source": [
    "import flashtext\n",
    "from flashtext import KeywordProcessor\n",
    "keyword_processor = KeywordProcessor()\n",
    "keyword_dict=dicts\n",
    "keyword_processor.add_keywords_from_dict(keyword_dict)"
   ]
  },
  {
   "cell_type": "code",
   "execution_count": 100,
   "id": "324e4b01",
   "metadata": {},
   "outputs": [],
   "source": [
    "def remove_duplicates(lists):\n",
    "    res=[]\n",
    "    for i in lists:\n",
    "        if i not in res:\n",
    "            res.append(i)\n",
    "    return res"
   ]
  },
  {
   "cell_type": "code",
   "execution_count": 112,
   "id": "70e88afd",
   "metadata": {},
   "outputs": [],
   "source": [
    "def listToString(lists): \n",
    "    str1 = \"\" \n",
    "    for ele in lists: \n",
    "        str1 =ele +', ' + str1  \n",
    "    return str1 "
   ]
  },
  {
   "cell_type": "code",
   "execution_count": 118,
   "id": "cff3d6fe",
   "metadata": {},
   "outputs": [],
   "source": [
    "def spotkeyword(txt):\n",
    "    return listToString(remove_duplicates(keyword_processor.extract_keywords(txt)))"
   ]
  },
  {
   "cell_type": "code",
   "execution_count": 113,
   "id": "944b2615",
   "metadata": {},
   "outputs": [
    {
     "data": {
      "text/plain": [
       "'Machine Learning, Statistics, NLP, Deep Learning, Python Language, '"
      ]
     },
     "execution_count": 113,
     "metadata": {},
     "output_type": "execute_result"
    }
   ],
   "source": [
    "listToString(remove_duplicates(spotkeyword(Resume_op['Document'][1])))"
   ]
  },
  {
   "cell_type": "code",
   "execution_count": 87,
   "id": "4110ada6",
   "metadata": {},
   "outputs": [],
   "source": [
    "Resume_op=Resume_Df.copy()"
   ]
  },
  {
   "cell_type": "code",
   "execution_count": 119,
   "id": "06ca7c93",
   "metadata": {},
   "outputs": [],
   "source": [
    "Resume_op['Keywords']=Resume_op['Document'].apply(lambda x:spotkeyword(x))"
   ]
  },
  {
   "cell_type": "code",
   "execution_count": null,
   "id": "448131e4",
   "metadata": {},
   "outputs": [],
   "source": [
    "Resume_op"
   ]
  }
 ],
 "metadata": {
  "kernelspec": {
   "display_name": "Python 3",
   "language": "python",
   "name": "python3"
  },
  "language_info": {
   "codemirror_mode": {
    "name": "ipython",
    "version": 3
   },
   "file_extension": ".py",
   "mimetype": "text/x-python",
   "name": "python",
   "nbconvert_exporter": "python",
   "pygments_lexer": "ipython3",
   "version": "3.8.5"
  }
 },
 "nbformat": 4,
 "nbformat_minor": 5
}
